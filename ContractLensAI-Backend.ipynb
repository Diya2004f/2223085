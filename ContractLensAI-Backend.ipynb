{
  "nbformat": 4,
  "nbformat_minor": 0,
  "metadata": {
    "colab": {
      "provenance": [],
      "authorship_tag": "ABX9TyOrHNPnZMbfwzK5uywCnQvo",
      "include_colab_link": true
    },
    "kernelspec": {
      "name": "python3",
      "display_name": "Python 3"
    },
    "language_info": {
      "name": "python"
    }
  },
  "cells": [
    {
      "cell_type": "markdown",
      "metadata": {
        "id": "view-in-github",
        "colab_type": "text"
      },
      "source": [
        "<a href=\"https://colab.research.google.com/github/Diya2004f/2223085/blob/main/ContractLensAI-Backend.ipynb\" target=\"_parent\"><img src=\"https://colab.research.google.com/assets/colab-badge.svg\" alt=\"Open In Colab\"/></a>"
      ]
    },
    {
      "cell_type": "code",
      "execution_count": 4,
      "metadata": {
        "id": "ynMq0NR9WOXT"
      },
      "outputs": [],
      "source": [
        "# Create app.py file\n",
        "app_code = \"\"\"# ----------------------------\n",
        "# ContractLens AI - Legal Document Summarizer Backend\n",
        "# ----------------------------\n",
        "\n",
        "from flask import Flask, request, jsonify\n",
        "from transformers import pipeline\n",
        "from werkzeug.utils import secure_filename\n",
        "from flask_cors import CORS\n",
        "import docx\n",
        "from pdf2image import convert_from_bytes\n",
        "import pytesseract\n",
        "import io\n",
        "\n",
        "# ----------------------------\n",
        "# Flask app setup\n",
        "# ----------------------------\n",
        "app = Flask(__name__)\n",
        "CORS(app)  # Enable CORS for all origins\n",
        "\n",
        "# Load summarization model\n",
        "summarizer = pipeline(\"summarization\", model=\"facebook/bart-large-cnn\")\n",
        "\n",
        "# ----------------------------\n",
        "# Config\n",
        "# ----------------------------\n",
        "MAX_FILE_SIZE = 10 * 1024 * 1024  # 10 MB\n",
        "MAX_WORDS = 1500  # truncate long documents\n",
        "\n",
        "# ----------------------------\n",
        "# Helper functions\n",
        "# ----------------------------\n",
        "def chunk_text(text, chunk_size=700):\n",
        "    '''Split long text into smaller chunks.'''\n",
        "    words = text.split()\n",
        "    for i in range(0, len(words), chunk_size):\n",
        "        yield \" \".join(words[i:i + chunk_size])\n",
        "\n",
        "def extract_text_from_docx(file):\n",
        "    '''Extract text from .docx file.'''\n",
        "    doc = docx.Document(file)\n",
        "    return \" \".join([p.text for p in doc.paragraphs])\n",
        "\n",
        "def extract_text_from_pdf(file):\n",
        "    '''Extract text from PDF file using OCR.'''\n",
        "    try:\n",
        "        pdf_bytes = file.read()\n",
        "        images = convert_from_bytes(pdf_bytes)\n",
        "        text = \"\"\n",
        "        for img in images:\n",
        "            text += pytesseract.image_to_string(img) + \" \"\n",
        "        return text\n",
        "    except Exception as e:\n",
        "        print(\"PDF extraction error:\", e)\n",
        "        return \"\"\n",
        "\n",
        "# ----------------------------\n",
        "# API Route: Summarize document\n",
        "# ----------------------------\n",
        "@app.route(\"/summarize\", methods=[\"POST\"])\n",
        "def summarize():\n",
        "    text = \"\"\n",
        "    plain_english = False\n",
        "\n",
        "    # Handle uploaded files\n",
        "    if 'file' in request.files:\n",
        "        file = request.files['file']\n",
        "        filename = secure_filename(file.filename)\n",
        "\n",
        "        if filename.endswith(\".pdf\"):\n",
        "            text = extract_text_from_pdf(file)\n",
        "        elif filename.endswith(\".docx\"):\n",
        "            text = extract_text_from_docx(file)\n",
        "        elif filename.endswith(\".txt\"):\n",
        "            text = file.read().decode(\"utf-8\")\n",
        "\n",
        "        plain_english = request.form.get(\"plain_english\", \"false\").lower() == \"true\"\n",
        "\n",
        "    # Handle raw JSON requests\n",
        "    elif request.is_json:\n",
        "        data = request.get_json()\n",
        "        text = data.get(\"document_text\", \"\")\n",
        "        plain_english = data.get(\"plain_english\", False)\n",
        "\n",
        "    else:\n",
        "        return jsonify({\"error\": \"Invalid request format\"}), 400\n",
        "\n",
        "    if not text.strip():\n",
        "        return jsonify({\"error\": \"No text found\"}), 400\n",
        "\n",
        "    # Prefix mode for clarity\n",
        "    prefix = \"Summarize this legal document clearly and professionally: \"\n",
        "    if plain_english:\n",
        "        prefix = \"Summarize this legal document in simple, plain English: \"\n",
        "    text = prefix + text\n",
        "\n",
        "    # Summarize in chunks\n",
        "    words = text.split()\n",
        "    chunks = list(chunk_text(text, chunk_size=700)) if len(words) > 700 else [text]\n",
        "    summaries = []\n",
        "    for chunk in chunks:\n",
        "        try:\n",
        "            summary = summarizer(chunk, max_length=200, min_length=50, truncation=True)\n",
        "            summaries.append(summary[0][\"summary_text\"])\n",
        "        except Exception as e:\n",
        "            print(\"Summarization error:\", e)\n",
        "            continue\n",
        "\n",
        "    if not summaries:\n",
        "        return jsonify({\"error\": \"Failed to summarize\"}), 500\n",
        "\n",
        "    final_summary = \" \".join(summaries)\n",
        "\n",
        "    return jsonify({\n",
        "        \"summary\": final_summary,\n",
        "        \"key_clauses\": [\"Confidentiality\", \"Termination\", \"Payment Terms\"],\n",
        "        \"mode\": \"Plain English\" if plain_english else \"Professional\"\n",
        "    })\n",
        "\n",
        "# ----------------------------\n",
        "# Root Route\n",
        "# ----------------------------\n",
        "@app.route(\"/\", methods=[\"GET\"])\n",
        "def home():\n",
        "    return jsonify({\"message\": \"ContractLens AI Backend is running!\"})\n",
        "\n",
        "# ----------------------------\n",
        "# Run App\n",
        "# ----------------------------\n",
        "if __name__ == \"__main__\":\n",
        "    app.run(host=\"0.0.0.0\", port=10000)\n",
        "\"\"\"\n",
        "with open(\"app.py\", \"w\") as f:\n",
        "    f.write(app_code)\n",
        "\n",
        "# Create requirements.txt file\n",
        "reqs = \"\"\"flask\n",
        "flask-cors\n",
        "transformers\n",
        "torch\n",
        "python-docx\n",
        "pdf2image\n",
        "pytesseract\n",
        "werkzeug\"\"\"\n",
        "with open(\"requirements.txt\", \"w\") as f:\n",
        "    f.write(reqs)"
      ]
    },
    {
      "cell_type": "code",
      "source": [
        "!ls\n"
      ],
      "metadata": {
        "colab": {
          "base_uri": "https://localhost:8080/"
        },
        "id": "kCpbgXHiYusn",
        "outputId": "2b992542-09cd-4537-acf0-bb6fb7aabcec"
      },
      "execution_count": 8,
      "outputs": [
        {
          "output_type": "stream",
          "name": "stdout",
          "text": [
            "app.py\trequirements.txt  sample_data\n"
          ]
        }
      ]
    },
    {
      "cell_type": "code",
      "metadata": {
        "colab": {
          "base_uri": "https://localhost:8080/"
        },
        "id": "3ac6c7e1",
        "outputId": "bec63e24-a6d1-4057-cbc7-106f05fc9f77"
      },
      "source": [
        "%pip install -r requirements.txt"
      ],
      "execution_count": 5,
      "outputs": [
        {
          "output_type": "stream",
          "name": "stdout",
          "text": [
            "Requirement already satisfied: flask in /usr/local/lib/python3.12/dist-packages (from -r requirements.txt (line 1)) (3.1.2)\n",
            "Collecting flask-cors (from -r requirements.txt (line 2))\n",
            "  Downloading flask_cors-6.0.1-py3-none-any.whl.metadata (5.3 kB)\n",
            "Requirement already satisfied: transformers in /usr/local/lib/python3.12/dist-packages (from -r requirements.txt (line 3)) (4.56.2)\n",
            "Requirement already satisfied: torch in /usr/local/lib/python3.12/dist-packages (from -r requirements.txt (line 4)) (2.8.0+cu126)\n",
            "Collecting python-docx (from -r requirements.txt (line 5))\n",
            "  Downloading python_docx-1.2.0-py3-none-any.whl.metadata (2.0 kB)\n",
            "Collecting pdf2image (from -r requirements.txt (line 6))\n",
            "  Downloading pdf2image-1.17.0-py3-none-any.whl.metadata (6.2 kB)\n",
            "Collecting pytesseract (from -r requirements.txt (line 7))\n",
            "  Downloading pytesseract-0.3.13-py3-none-any.whl.metadata (11 kB)\n",
            "Requirement already satisfied: werkzeug in /usr/local/lib/python3.12/dist-packages (from -r requirements.txt (line 8)) (3.1.3)\n",
            "Requirement already satisfied: blinker>=1.9.0 in /usr/local/lib/python3.12/dist-packages (from flask->-r requirements.txt (line 1)) (1.9.0)\n",
            "Requirement already satisfied: click>=8.1.3 in /usr/local/lib/python3.12/dist-packages (from flask->-r requirements.txt (line 1)) (8.3.0)\n",
            "Requirement already satisfied: itsdangerous>=2.2.0 in /usr/local/lib/python3.12/dist-packages (from flask->-r requirements.txt (line 1)) (2.2.0)\n",
            "Requirement already satisfied: jinja2>=3.1.2 in /usr/local/lib/python3.12/dist-packages (from flask->-r requirements.txt (line 1)) (3.1.6)\n",
            "Requirement already satisfied: markupsafe>=2.1.1 in /usr/local/lib/python3.12/dist-packages (from flask->-r requirements.txt (line 1)) (3.0.3)\n",
            "Requirement already satisfied: filelock in /usr/local/lib/python3.12/dist-packages (from transformers->-r requirements.txt (line 3)) (3.19.1)\n",
            "Requirement already satisfied: huggingface-hub<1.0,>=0.34.0 in /usr/local/lib/python3.12/dist-packages (from transformers->-r requirements.txt (line 3)) (0.35.3)\n",
            "Requirement already satisfied: numpy>=1.17 in /usr/local/lib/python3.12/dist-packages (from transformers->-r requirements.txt (line 3)) (2.0.2)\n",
            "Requirement already satisfied: packaging>=20.0 in /usr/local/lib/python3.12/dist-packages (from transformers->-r requirements.txt (line 3)) (25.0)\n",
            "Requirement already satisfied: pyyaml>=5.1 in /usr/local/lib/python3.12/dist-packages (from transformers->-r requirements.txt (line 3)) (6.0.3)\n",
            "Requirement already satisfied: regex!=2019.12.17 in /usr/local/lib/python3.12/dist-packages (from transformers->-r requirements.txt (line 3)) (2024.11.6)\n",
            "Requirement already satisfied: requests in /usr/local/lib/python3.12/dist-packages (from transformers->-r requirements.txt (line 3)) (2.32.4)\n",
            "Requirement already satisfied: tokenizers<=0.23.0,>=0.22.0 in /usr/local/lib/python3.12/dist-packages (from transformers->-r requirements.txt (line 3)) (0.22.1)\n",
            "Requirement already satisfied: safetensors>=0.4.3 in /usr/local/lib/python3.12/dist-packages (from transformers->-r requirements.txt (line 3)) (0.6.2)\n",
            "Requirement already satisfied: tqdm>=4.27 in /usr/local/lib/python3.12/dist-packages (from transformers->-r requirements.txt (line 3)) (4.67.1)\n",
            "Requirement already satisfied: typing-extensions>=4.10.0 in /usr/local/lib/python3.12/dist-packages (from torch->-r requirements.txt (line 4)) (4.15.0)\n",
            "Requirement already satisfied: setuptools in /usr/local/lib/python3.12/dist-packages (from torch->-r requirements.txt (line 4)) (75.2.0)\n",
            "Requirement already satisfied: sympy>=1.13.3 in /usr/local/lib/python3.12/dist-packages (from torch->-r requirements.txt (line 4)) (1.13.3)\n",
            "Requirement already satisfied: networkx in /usr/local/lib/python3.12/dist-packages (from torch->-r requirements.txt (line 4)) (3.5)\n",
            "Requirement already satisfied: fsspec in /usr/local/lib/python3.12/dist-packages (from torch->-r requirements.txt (line 4)) (2025.3.0)\n",
            "Requirement already satisfied: nvidia-cuda-nvrtc-cu12==12.6.77 in /usr/local/lib/python3.12/dist-packages (from torch->-r requirements.txt (line 4)) (12.6.77)\n",
            "Requirement already satisfied: nvidia-cuda-runtime-cu12==12.6.77 in /usr/local/lib/python3.12/dist-packages (from torch->-r requirements.txt (line 4)) (12.6.77)\n",
            "Requirement already satisfied: nvidia-cuda-cupti-cu12==12.6.80 in /usr/local/lib/python3.12/dist-packages (from torch->-r requirements.txt (line 4)) (12.6.80)\n",
            "Requirement already satisfied: nvidia-cudnn-cu12==9.10.2.21 in /usr/local/lib/python3.12/dist-packages (from torch->-r requirements.txt (line 4)) (9.10.2.21)\n",
            "Requirement already satisfied: nvidia-cublas-cu12==12.6.4.1 in /usr/local/lib/python3.12/dist-packages (from torch->-r requirements.txt (line 4)) (12.6.4.1)\n",
            "Requirement already satisfied: nvidia-cufft-cu12==11.3.0.4 in /usr/local/lib/python3.12/dist-packages (from torch->-r requirements.txt (line 4)) (11.3.0.4)\n",
            "Requirement already satisfied: nvidia-curand-cu12==10.3.7.77 in /usr/local/lib/python3.12/dist-packages (from torch->-r requirements.txt (line 4)) (10.3.7.77)\n",
            "Requirement already satisfied: nvidia-cusolver-cu12==11.7.1.2 in /usr/local/lib/python3.12/dist-packages (from torch->-r requirements.txt (line 4)) (11.7.1.2)\n",
            "Requirement already satisfied: nvidia-cusparse-cu12==12.5.4.2 in /usr/local/lib/python3.12/dist-packages (from torch->-r requirements.txt (line 4)) (12.5.4.2)\n",
            "Requirement already satisfied: nvidia-cusparselt-cu12==0.7.1 in /usr/local/lib/python3.12/dist-packages (from torch->-r requirements.txt (line 4)) (0.7.1)\n",
            "Requirement already satisfied: nvidia-nccl-cu12==2.27.3 in /usr/local/lib/python3.12/dist-packages (from torch->-r requirements.txt (line 4)) (2.27.3)\n",
            "Requirement already satisfied: nvidia-nvtx-cu12==12.6.77 in /usr/local/lib/python3.12/dist-packages (from torch->-r requirements.txt (line 4)) (12.6.77)\n",
            "Requirement already satisfied: nvidia-nvjitlink-cu12==12.6.85 in /usr/local/lib/python3.12/dist-packages (from torch->-r requirements.txt (line 4)) (12.6.85)\n",
            "Requirement already satisfied: nvidia-cufile-cu12==1.11.1.6 in /usr/local/lib/python3.12/dist-packages (from torch->-r requirements.txt (line 4)) (1.11.1.6)\n",
            "Requirement already satisfied: triton==3.4.0 in /usr/local/lib/python3.12/dist-packages (from torch->-r requirements.txt (line 4)) (3.4.0)\n",
            "Requirement already satisfied: lxml>=3.1.0 in /usr/local/lib/python3.12/dist-packages (from python-docx->-r requirements.txt (line 5)) (5.4.0)\n",
            "Requirement already satisfied: pillow in /usr/local/lib/python3.12/dist-packages (from pdf2image->-r requirements.txt (line 6)) (11.3.0)\n",
            "Requirement already satisfied: hf-xet<2.0.0,>=1.1.3 in /usr/local/lib/python3.12/dist-packages (from huggingface-hub<1.0,>=0.34.0->transformers->-r requirements.txt (line 3)) (1.1.10)\n",
            "Requirement already satisfied: mpmath<1.4,>=1.1.0 in /usr/local/lib/python3.12/dist-packages (from sympy>=1.13.3->torch->-r requirements.txt (line 4)) (1.3.0)\n",
            "Requirement already satisfied: charset_normalizer<4,>=2 in /usr/local/lib/python3.12/dist-packages (from requests->transformers->-r requirements.txt (line 3)) (3.4.3)\n",
            "Requirement already satisfied: idna<4,>=2.5 in /usr/local/lib/python3.12/dist-packages (from requests->transformers->-r requirements.txt (line 3)) (3.10)\n",
            "Requirement already satisfied: urllib3<3,>=1.21.1 in /usr/local/lib/python3.12/dist-packages (from requests->transformers->-r requirements.txt (line 3)) (2.5.0)\n",
            "Requirement already satisfied: certifi>=2017.4.17 in /usr/local/lib/python3.12/dist-packages (from requests->transformers->-r requirements.txt (line 3)) (2025.8.3)\n",
            "Downloading flask_cors-6.0.1-py3-none-any.whl (13 kB)\n",
            "Downloading python_docx-1.2.0-py3-none-any.whl (252 kB)\n",
            "\u001b[2K   \u001b[90m━━━━━━━━━━━━━━━━━━━━━━━━━━━━━━━━━━━━━━━━\u001b[0m \u001b[32m253.0/253.0 kB\u001b[0m \u001b[31m8.3 MB/s\u001b[0m eta \u001b[36m0:00:00\u001b[0m\n",
            "\u001b[?25hDownloading pdf2image-1.17.0-py3-none-any.whl (11 kB)\n",
            "Downloading pytesseract-0.3.13-py3-none-any.whl (14 kB)\n",
            "Installing collected packages: python-docx, pytesseract, pdf2image, flask-cors\n",
            "Successfully installed flask-cors-6.0.1 pdf2image-1.17.0 pytesseract-0.3.13 python-docx-1.2.0\n"
          ]
        }
      ]
    },
    {
      "cell_type": "code",
      "metadata": {
        "colab": {
          "base_uri": "https://localhost:8080/"
        },
        "id": "0973c85f",
        "outputId": "f94e795a-5b9b-43a5-edc7-45773bfd17c8"
      },
      "source": [
        "%run app.py"
      ],
      "execution_count": 7,
      "outputs": [
        {
          "output_type": "stream",
          "name": "stderr",
          "text": [
            "Device set to use cpu\n"
          ]
        },
        {
          "output_type": "stream",
          "name": "stdout",
          "text": [
            " * Serving Flask app 'app'\n",
            " * Debug mode: off\n"
          ]
        },
        {
          "output_type": "stream",
          "name": "stderr",
          "text": [
            "INFO:werkzeug:\u001b[31m\u001b[1mWARNING: This is a development server. Do not use it in a production deployment. Use a production WSGI server instead.\u001b[0m\n",
            " * Running on all addresses (0.0.0.0)\n",
            " * Running on http://127.0.0.1:10000\n",
            " * Running on http://172.28.0.12:10000\n",
            "INFO:werkzeug:\u001b[33mPress CTRL+C to quit\u001b[0m\n"
          ]
        }
      ]
    },
    {
      "cell_type": "code",
      "source": [],
      "metadata": {
        "id": "f1SUIZZ3WVXX"
      },
      "execution_count": null,
      "outputs": []
    },
    {
      "cell_type": "code",
      "source": [],
      "metadata": {
        "id": "550kpzQ5XJtV"
      },
      "execution_count": null,
      "outputs": []
    }
  ]
}